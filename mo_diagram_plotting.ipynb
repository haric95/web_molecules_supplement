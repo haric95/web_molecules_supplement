{
 "cells": [
  {
   "cell_type": "code",
   "execution_count": 1,
   "metadata": {},
   "outputs": [],
   "source": [
    "import matplotlib.pyplot as plt\n",
    "from itertools import groupby"
   ]
  },
  {
   "cell_type": "code",
   "execution_count": 2,
   "metadata": {},
   "outputs": [
    {
     "name": "stdout",
     "output_type": "stream",
     "text": [
      "molecule name?nh3\n"
     ]
    }
   ],
   "source": [
    "molecule = input(\"molecule name?\")\n",
    "filepath = \"./\" + molecule + \"/\" + molecule + \".fchk\""
   ]
  },
  {
   "cell_type": "code",
   "execution_count": 35,
   "metadata": {},
   "outputs": [],
   "source": [
    "def find_energies(filepath):\n",
    "    with open(filepath, \"r\") as stream:\n",
    "        file = list(stream)\n",
    "    for i in file:\n",
    "        if \"Alpha Orbital Energies\" in i:\n",
    "            index = file.index(i)\n",
    "    file = file[index+1:]\n",
    "\n",
    "    temp = True\n",
    "    energies_string = []\n",
    "\n",
    "    while temp == True:\n",
    "        for i in file:\n",
    "            if i.startswith(\" \"):\n",
    "                if i.startswith(\" -\"):\n",
    "                    energies_string.append(i[1:])\n",
    "                elif i.startswith(\"  \"):\n",
    "                    energies_string.append(i[2:])\n",
    "            else:\n",
    "                break\n",
    "            temp = False\n",
    "\n",
    "    energies_string_2 = []\n",
    "    for i in energies_string:\n",
    "        energies_string_2.append(list(filter(None, i[:-1].split(\" \"))))\n",
    "\n",
    "    energies = []\n",
    "\n",
    "    for i in energies_string_2:\n",
    "        for j in i:\n",
    "            energies.append(float(j))\n",
    "            \n",
    "    i = 0\n",
    "    while i < len(energies)-1:\n",
    "        if energies[i+1] - energies[i] < 0.001:\n",
    "            energies[i+1] += 0.01\n",
    "        i += 1\n",
    "    return energies"
   ]
  },
  {
   "cell_type": "code",
   "execution_count": 44,
   "metadata": {},
   "outputs": [],
   "source": [
    "def full_mo_plot(left, middle, right, connections, occupation, save):\n",
    "    #ensuring the input lists are in ascending order\n",
    "    left.sort()\n",
    "    middle.sort()\n",
    "    right.sort()\n",
    "    highest_energy = max([max(left), max(middle), max(right)])\n",
    "    lowest_energy = min([min(left), min(middle), min(right)])\n",
    "    figure_height = (highest_energy - lowest_energy) * 15\n",
    "    #creating plot and adding horizontal energy lines formatting etc\n",
    "    fig,ax = plt.subplots(figsize=(10,figure_height))\n",
    "    ax.hlines(left, -2.3,-1.3)\n",
    "    ax.hlines(middle, -0.5,0.5)\n",
    "    ax.hlines(right, 1.3, 2.3)\n",
    "    ax.tick_params(axis='x', which='both', bottom=False, top=False, labelbottom=False)\n",
    "    ax.spines[\"left\"].set_visible(False)\n",
    "    ax.spines[\"right\"].set_visible(False)\n",
    "    ax.spines[\"top\"].set_visible(False)\n",
    "    ax.spines[\"bottom\"].set_visible(False)\n",
    "    ax.set_yticks([0])\n",
    "    #joining diagonal lines from connections argument\n",
    "    for i in connections[0]:\n",
    "        ax.plot([-1.3,-0.5], [left[i[0]], middle[i[1]]], color = \"black\", linestyle = \"--\", linewidth = \"0.6\", dashes=(5, 10))\n",
    "    for i in connections[1]:\n",
    "        ax.plot([1.3,0.5], [right[i[0]], middle[i[1]]], color = \"black\", linestyle = \"--\", linewidth = \"0.6\", dashes=(5, 10))\n",
    "    ax.set_xlim(-2.5,2.5)\n",
    "    ax.plot([-2.5,2.5], [0,0], linestyle = \"--\", linewidth = \"0.5\", dashes=(5, 10), color = \"black\")\n",
    "    #adding electrons, making sure they don't overlap\n",
    "#     i = 0\n",
    "#     close = []\n",
    "#     temp = ammonia_energies[1:8]\n",
    "#     while i < len(temp) - 1:\n",
    "#         if temp[i+1] - temp[i] < 0.01:\n",
    "#             close.append(True)\n",
    "#         else:\n",
    "#             close.append(False)\n",
    "#         i += 1\n",
    "#     close.append(False)\n",
    "    i = 0\n",
    "    while i < len(occupation):\n",
    "        if occupation[i] == 2:\n",
    "            ax.arrow(-0.02, middle[i]-0.015, 0, 0.03, head_width = 0.04, head_length = 0.007, color = \"red\")\n",
    "            ax.arrow(0.02, middle[i]+0.01, 0, -0.03, head_width = 0.04, head_length = 0.007, color = \"red\")\n",
    "            i += 1\n",
    "    if save:\n",
    "        molecule = input(\"Molecule Name?\")\n",
    "        fig.savefig(molecule + \"_mo.png\")\n",
    "        \n",
    "        \n",
    "def central_mo_plot(energies, occupation, save):\n",
    "    energies.sort()\n",
    "    energy_range = max(energies) - min(energies)\n",
    "    y = energy_range / 2\n",
    "    fig, ax = plt.subplots(figsize = (10,y))\n",
    "    ax.tick_params(axis='x', which='both', bottom=False, top=False, labelbottom=False)\n",
    "    ax.hlines(middle, -0.5,0.5)\n",
    "    ax.spines[\"left\"].set_visible(False)\n",
    "    ax.spines[\"right\"].set_visible(False)\n",
    "    ax.spines[\"top\"].set_visible(False)\n",
    "    ax.spines[\"bottom\"].set_visible(False)\n",
    "    ax.set_xlim(-2.5,2.5)\n",
    "    ax.plot([-2.5,2.5], [0,0], linestyle = \"--\", linewidth = \"0.5\", dashes=(5, 10), color = \"black\")"
   ]
  },
  {
   "cell_type": "code",
   "execution_count": null,
   "metadata": {},
   "outputs": [],
   "source": []
  },
  {
   "cell_type": "code",
   "execution_count": 45,
   "metadata": {},
   "outputs": [],
   "source": [
    "ammonia_energies = find_energies(filepath)"
   ]
  },
  {
   "cell_type": "code",
   "execution_count": 46,
   "metadata": {},
   "outputs": [],
   "source": [
    "middle = ammonia_energies[1:8]\n",
    "left = [-0.351877937, -0.156414803, -0.151414803]\n",
    "right = [-0.410559242, -0.253, -0.258, -0.263]\n",
    "connections = [[(0,0),(0,4),(1,1),(1,5)],[(0,0), (0,4), (1,1), (1,5), (2,3)]]\n",
    "occupation = [2,2,2]"
   ]
  },
  {
   "cell_type": "code",
   "execution_count": 47,
   "metadata": {},
   "outputs": [
    {
     "name": "stdout",
     "output_type": "stream",
     "text": [
      "Molecule Name?nh3\n"
     ]
    },
    {
     "data": {
      "image/png": "[encoded data removed]",
      "text/plain": [
       "<Figure size 720x1052.42 with 1 Axes>"
      ]
     },
     "metadata": {
      "needs_background": "light"
     },
     "output_type": "display_data"
    }
   ],
   "source": [
    "full_mo_plot(left, middle, right, connections, occupation, True)"
   ]
  },
  {
   "cell_type": "code",
   "execution_count": 196,
   "metadata": {},
   "outputs": [],
   "source": [
    "\n",
    "# i = 0\n",
    "# while i <= len(temp) - 1:\n",
    "#     if close[i+1]:\n",
    "#         close[i] = True\n",
    "#     i += 1"
   ]
  },
  {
   "cell_type": "code",
   "execution_count": 8,
   "metadata": {},
   "outputs": [
    {
     "ename": "NameError",
     "evalue": "name 'close' is not defined",
     "output_type": "error",
     "traceback": [
      "\u001b[0;31m---------------------------------------------------------------------------\u001b[0m",
      "\u001b[0;31mNameError\u001b[0m                                 Traceback (most recent call last)",
      "\u001b[0;32m<ipython-input-8-4830312fd8a9>\u001b[0m in \u001b[0;36m<module>\u001b[0;34m\u001b[0m\n\u001b[0;32m----> 1\u001b[0;31m \u001b[0mclose\u001b[0m\u001b[0;34m\u001b[0m\u001b[0;34m\u001b[0m\u001b[0m\n\u001b[0m",
      "\u001b[0;31mNameError\u001b[0m: name 'close' is not defined"
     ]
    }
   ],
   "source": []
  },
  {
   "cell_type": "code",
   "execution_count": 15,
   "metadata": {},
   "outputs": [],
   "source": [
    "test =[False, True, False, False, False, True, False]"
   ]
  },
  {
   "cell_type": "code",
   "execution_count": null,
   "metadata": {},
   "outputs": [],
   "source": []
  },
  {
   "cell_type": "code",
   "execution_count": 3,
   "metadata": {},
   "outputs": [
    {
     "data": {
      "text/plain": [
       "'./nh3/nh3.fchk'"
      ]
     },
     "execution_count": 3,
     "metadata": {},
     "output_type": "execute_result"
    }
   ],
   "source": []
  },
  {
   "cell_type": "code",
   "execution_count": 16,
   "metadata": {},
   "outputs": [
    {
     "data": {
      "text/plain": [
       "[-14.2784861,\n",
       " -0.847337138,\n",
       " -0.456306779,\n",
       " -0.450306779,\n",
       " -0.258507965,\n",
       " 0.0389997143,\n",
       " 0.117123116,\n",
       " 0.123123116,\n",
       " 0.344750664,\n",
       " 0.350750664,\n",
       " 0.4742656,\n",
       " 0.599058236,\n",
       " 0.718805198,\n",
       " 0.724805198,\n",
       " 0.895229381,\n",
       " 1.11227847,\n",
       " 1.11827847,\n",
       " 1.52799505,\n",
       " 1.55313245,\n",
       " 1.63857691,\n",
       " 1.64457691,\n",
       " 1.86024596,\n",
       " 1.86624596,\n",
       " 2.11603561,\n",
       " 2.38232391,\n",
       " 2.38832391,\n",
       " 2.53358678,\n",
       " 2.6454801,\n",
       " 2.6514800999999997,\n",
       " 2.78578701,\n",
       " 3.04674416,\n",
       " 3.0527441599999996,\n",
       " 3.94290571,\n",
       " 4.71848355,\n",
       " 4.72448355,\n",
       " 35.6033528]"
      ]
     },
     "execution_count": 16,
     "metadata": {},
     "output_type": "execute_result"
    }
   ],
   "source": [
    "ammonia_energies"
   ]
  },
  {
   "cell_type": "code",
   "execution_count": 22,
   "metadata": {},
   "outputs": [
    {
     "data": {
      "image/png": "[encoded data removed]",
      "text/plain": [
       "<Figure size 720x1795.75 with 1 Axes>"
      ]
     },
     "metadata": {
      "needs_background": "light"
     },
     "output_type": "display_data"
    }
   ],
   "source": [
    "central_mo_plot(ammonia_energies, 0, 0)"
   ]
  },
  {
   "cell_type": "code",
   "execution_count": null,
   "metadata": {},
   "outputs": [],
   "source": []
  }
 ],
 "metadata": {
  "kernelspec": {
   "display_name": "Python 3",
   "language": "python",
   "name": "python3"
  },
  "language_info": {
   "codemirror_mode": {
    "name": "ipython",
    "version": 3
   },
   "file_extension": ".py",
   "mimetype": "text/x-python",
   "name": "python",
   "nbconvert_exporter": "python",
   "pygments_lexer": "ipython3",
   "version": "3.6.8"
  }
 },
 "nbformat": 4,
 "nbformat_minor": 2
}
