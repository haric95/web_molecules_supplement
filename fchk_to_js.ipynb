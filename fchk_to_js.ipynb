{
 "cells": [
  {
   "cell_type": "markdown",
   "metadata": {},
   "source": [
    "____________\n",
    "<b>This notebook reads .fchk files and extracts information about the atomic coordinates and vibrational modes.\n",
    "\n",
    "The bottom cell will print out a string which you will need to copy and paste into the vibrations.js component on the website.\n",
    "\n",
    "Just run the code cells below inputting the name of the molecule (as it appears in the folder name and file name) when prompted. </b>\n",
    "___________"
   ]
  },
  {
   "cell_type": "code",
   "execution_count": 49,
   "metadata": {},
   "outputs": [],
   "source": [
    "import csv\n",
    "import pandas as pd"
   ]
  },
  {
   "cell_type": "code",
   "execution_count": 50,
   "metadata": {},
   "outputs": [],
   "source": [
    "#These functions are work, but are written poorly.\n",
    "#They could be improved if need be\n",
    "\n",
    "def find_atomic_numbers(filepath):\n",
    "    atomic_numbers = []\n",
    "    with open(filepath, \"r\") as stream:\n",
    "        file = list(stream)\n",
    "    for i in range(0,len(file)):\n",
    "        if file[i].startswith(\"Atomic numbers\"):\n",
    "            start_index = i+1\n",
    "            break\n",
    "    for i in range(0,len(file)):\n",
    "        if file[i].startswith(\"Nuclear\"):\n",
    "            end_index = i-1\n",
    "            break\n",
    "    atomic_numbers_string = []\n",
    "    for i in range(start_index, end_index+1):\n",
    "        atomic_numbers_string.append(file[i])\n",
    "    atomic_numbers = []\n",
    "    for i in atomic_numbers_string:\n",
    "        atomic_numbers.append([int(s) for s in i.split() if s.isdigit()])\n",
    "    flat_atomic_numbers = [item for sublist in atomic_numbers for item in sublist]\n",
    "    return flat_atomic_numbers\n",
    "\n",
    "def find_coordinates(filepath):\n",
    "    atomic_numbers = []\n",
    "    with open(filepath, \"r\") as stream:\n",
    "        file = list(stream)\n",
    "    for i in range(0,len(file)):\n",
    "        if file[i].startswith(\"Current\"):\n",
    "            start_index = i+1\n",
    "            break\n",
    "    for i in range(0,len(file)):\n",
    "        if file[i].startswith(\"Force\"):\n",
    "            end_index = i-1\n",
    "            break\n",
    "    coordinates_string = []\n",
    "    for i in range(start_index, end_index+1):\n",
    "        coordinates_string.append(file[i])\n",
    "    coordinates = []\n",
    "    for i in coordinates_string:\n",
    "        coordinates.append((i.split(\" \")))\n",
    "    filtered_coordinates = []\n",
    "    for i in coordinates:\n",
    "        temp = list((filter(None, i)))\n",
    "        filtered_coordinates.append(temp)\n",
    "    flat_coordinates = [float(item) for sublist in filtered_coordinates for item in sublist]\n",
    "    num_atoms = int(len(flat_coordinates) / 3)\n",
    "    final = []\n",
    "    for i in range(0, num_atoms):\n",
    "        start = i * 3\n",
    "        final.append([flat_coordinates[start], flat_coordinates[start+1], flat_coordinates[start+2]])\n",
    "    return final\n",
    "\n",
    "def read_fchk(filepath):\n",
    "    atomic_numbers = find_atomic_numbers(filepath)\n",
    "    coordinates = find_coordinates(filepath)\n",
    "    dataframe = pd.DataFrame(coordinates, index = range(0, len(atomic_numbers)))\n",
    "    dataframe.columns=[\"x\", \"y\", \"z\"]\n",
    "    dataframe[\"atomic_number\"] = atomic_numbers\n",
    "    return (dataframe)"
   ]
  },
  {
   "cell_type": "code",
   "execution_count": 51,
   "metadata": {},
   "outputs": [
    {
     "name": "stdout",
     "output_type": "stream",
     "text": [
      "molecule name: nh3\n"
     ]
    }
   ],
   "source": [
    "molecule = input(\"molecule name: \")\n",
    "load_filepath = molecule + \"/\" + molecule + \".fchk\""
   ]
  },
  {
   "cell_type": "code",
   "execution_count": 52,
   "metadata": {},
   "outputs": [],
   "source": [
    "data = read_fchk(load_filepath)\n",
    "data = data.reindex(sorted(data.columns), axis=1)\n",
    "num_atoms = len(data)"
   ]
  },
  {
   "cell_type": "markdown",
   "metadata": {},
   "source": [
    "__________________________________________________\n",
    "<b>Run the cell below and copy what is printed out. Paste it into the vibrations.js component on a new line and it will be import into the ThreeD component automatically.\n",
    "\n",
    "Again, this could probable be improved going forward so there is no need to copy and paste, but for now this works. </b>\n",
    "__________________________________________________"
   ]
  },
  {
   "cell_type": "code",
   "execution_count": 53,
   "metadata": {},
   "outputs": [
    {
     "name": "stdout",
     "output_type": "stream",
     "text": [
      "nh3: {\"0\":{\"atomic_number\":7.0,\"x\":0.0,\"y\":0.0,\"z\":0.218982531},\"1\":{\"atomic_number\":1.0,\"x\":1.0500498e-16,\"y\":1.77534381,\"z\":-0.510959239},\"2\":{\"atomic_number\":1.0,\"x\":-1.53749284,\"y\":-0.887671905,\"z\":-0.510959239},\"3\":{\"atomic_number\":1.0,\"x\":1.53749284,\"y\":-0.887671905,\"z\":-0.510959239}, num_atoms:4},\n"
     ]
    }
   ],
   "source": [
    "json_string = data.transpose().to_json()\n",
    "json_string = molecule + \": \" + json_string\n",
    "json_string = json_string[:-1] + \", num_atoms:\" + str(num_atoms) + \"},\"\n",
    "print(json_string)"
   ]
  },
  {
   "cell_type": "code",
   "execution_count": null,
   "metadata": {},
   "outputs": [],
   "source": []
  },
  {
   "cell_type": "code",
   "execution_count": null,
   "metadata": {},
   "outputs": [],
   "source": []
  },
  {
   "cell_type": "code",
   "execution_count": 42,
   "metadata": {},
   "outputs": [
    {
     "data": {
      "text/plain": [
       "4"
      ]
     },
     "execution_count": 42,
     "metadata": {},
     "output_type": "execute_result"
    }
   ],
   "source": [
    "num_atoms"
   ]
  },
  {
   "cell_type": "code",
   "execution_count": null,
   "metadata": {},
   "outputs": [],
   "source": []
  }
 ],
 "metadata": {
  "kernelspec": {
   "display_name": "Python 3",
   "language": "python",
   "name": "python3"
  },
  "language_info": {
   "codemirror_mode": {
    "name": "ipython",
    "version": 3
   },
   "file_extension": ".py",
   "mimetype": "text/x-python",
   "name": "python",
   "nbconvert_exporter": "python",
   "pygments_lexer": "ipython3",
   "version": "3.6.8"
  }
 },
 "nbformat": 4,
 "nbformat_minor": 2
}
